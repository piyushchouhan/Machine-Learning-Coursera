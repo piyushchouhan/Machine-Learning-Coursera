{
  "nbformat": 4,
  "nbformat_minor": 0,
  "metadata": {
    "colab": {
      "name": "Multiple_linear_Reg.ipynb",
      "provenance": [],
      "toc_visible": true
    },
    "kernelspec": {
      "name": "python3",
      "display_name": "Python 3"
    },
    "language_info": {
      "name": "python"
    }
  },
  "cells": [
    {
      "cell_type": "code",
      "metadata": {
        "id": "u0tLSdNndnEO"
      },
      "source": [
        "import matplotlib.pyplot as plt\n",
        "import pandas as pd\n",
        "import pylab as pl\n",
        "import numpy as np\n",
        "%matplotlib inline"
      ],
      "execution_count": null,
      "outputs": []
    },
    {
      "cell_type": "code",
      "metadata": {
        "colab": {
          "base_uri": "https://localhost:8080/"
        },
        "id": "P-wEiZqWd8Ws",
        "outputId": "ee818c6f-88c7-45d4-da57-3742ba00f82f"
      },
      "source": [
        "!wget -O FuelConsumption.csv https://cf-courses-data.s3.us.cloud-object-storage.appdomain.cloud/IBMDeveloperSkillsNetwork-ML0101EN-SkillsNetwork/labs/Module%202/data/FuelConsumptionCo2.csv"
      ],
      "execution_count": null,
      "outputs": [
        {
          "output_type": "stream",
          "name": "stdout",
          "text": [
            "--2021-11-07 08:16:51--  https://cf-courses-data.s3.us.cloud-object-storage.appdomain.cloud/IBMDeveloperSkillsNetwork-ML0101EN-SkillsNetwork/labs/Module%202/data/FuelConsumptionCo2.csv\n",
            "Resolving cf-courses-data.s3.us.cloud-object-storage.appdomain.cloud (cf-courses-data.s3.us.cloud-object-storage.appdomain.cloud)... 169.63.118.104\n",
            "Connecting to cf-courses-data.s3.us.cloud-object-storage.appdomain.cloud (cf-courses-data.s3.us.cloud-object-storage.appdomain.cloud)|169.63.118.104|:443... connected.\n",
            "HTTP request sent, awaiting response... 200 OK\n",
            "Length: 72629 (71K) [text/csv]\n",
            "Saving to: ‘FuelConsumption.csv’\n",
            "\n",
            "FuelConsumption.csv 100%[===================>]  70.93K  --.-KB/s    in 0.02s   \n",
            "\n",
            "2021-11-07 08:16:52 (2.80 MB/s) - ‘FuelConsumption.csv’ saved [72629/72629]\n",
            "\n"
          ]
        }
      ]
    },
    {
      "cell_type": "code",
      "metadata": {
        "colab": {
          "base_uri": "https://localhost:8080/",
          "height": 274
        },
        "id": "YqBzJjg7eLoo",
        "outputId": "aa44119b-8415-4f80-b63f-1e3f26d384d2"
      },
      "source": [
        "df = pd.read_csv(\"FuelConsumption.csv\")\n",
        "df.head()"
      ],
      "execution_count": null,
      "outputs": [
        {
          "output_type": "execute_result",
          "data": {
            "text/html": [
              "<div>\n",
              "<style scoped>\n",
              "    .dataframe tbody tr th:only-of-type {\n",
              "        vertical-align: middle;\n",
              "    }\n",
              "\n",
              "    .dataframe tbody tr th {\n",
              "        vertical-align: top;\n",
              "    }\n",
              "\n",
              "    .dataframe thead th {\n",
              "        text-align: right;\n",
              "    }\n",
              "</style>\n",
              "<table border=\"1\" class=\"dataframe\">\n",
              "  <thead>\n",
              "    <tr style=\"text-align: right;\">\n",
              "      <th></th>\n",
              "      <th>MODELYEAR</th>\n",
              "      <th>MAKE</th>\n",
              "      <th>MODEL</th>\n",
              "      <th>VEHICLECLASS</th>\n",
              "      <th>ENGINESIZE</th>\n",
              "      <th>CYLINDERS</th>\n",
              "      <th>TRANSMISSION</th>\n",
              "      <th>FUELTYPE</th>\n",
              "      <th>FUELCONSUMPTION_CITY</th>\n",
              "      <th>FUELCONSUMPTION_HWY</th>\n",
              "      <th>FUELCONSUMPTION_COMB</th>\n",
              "      <th>FUELCONSUMPTION_COMB_MPG</th>\n",
              "      <th>CO2EMISSIONS</th>\n",
              "    </tr>\n",
              "  </thead>\n",
              "  <tbody>\n",
              "    <tr>\n",
              "      <th>0</th>\n",
              "      <td>2014</td>\n",
              "      <td>ACURA</td>\n",
              "      <td>ILX</td>\n",
              "      <td>COMPACT</td>\n",
              "      <td>2.0</td>\n",
              "      <td>4</td>\n",
              "      <td>AS5</td>\n",
              "      <td>Z</td>\n",
              "      <td>9.9</td>\n",
              "      <td>6.7</td>\n",
              "      <td>8.5</td>\n",
              "      <td>33</td>\n",
              "      <td>196</td>\n",
              "    </tr>\n",
              "    <tr>\n",
              "      <th>1</th>\n",
              "      <td>2014</td>\n",
              "      <td>ACURA</td>\n",
              "      <td>ILX</td>\n",
              "      <td>COMPACT</td>\n",
              "      <td>2.4</td>\n",
              "      <td>4</td>\n",
              "      <td>M6</td>\n",
              "      <td>Z</td>\n",
              "      <td>11.2</td>\n",
              "      <td>7.7</td>\n",
              "      <td>9.6</td>\n",
              "      <td>29</td>\n",
              "      <td>221</td>\n",
              "    </tr>\n",
              "    <tr>\n",
              "      <th>2</th>\n",
              "      <td>2014</td>\n",
              "      <td>ACURA</td>\n",
              "      <td>ILX HYBRID</td>\n",
              "      <td>COMPACT</td>\n",
              "      <td>1.5</td>\n",
              "      <td>4</td>\n",
              "      <td>AV7</td>\n",
              "      <td>Z</td>\n",
              "      <td>6.0</td>\n",
              "      <td>5.8</td>\n",
              "      <td>5.9</td>\n",
              "      <td>48</td>\n",
              "      <td>136</td>\n",
              "    </tr>\n",
              "    <tr>\n",
              "      <th>3</th>\n",
              "      <td>2014</td>\n",
              "      <td>ACURA</td>\n",
              "      <td>MDX 4WD</td>\n",
              "      <td>SUV - SMALL</td>\n",
              "      <td>3.5</td>\n",
              "      <td>6</td>\n",
              "      <td>AS6</td>\n",
              "      <td>Z</td>\n",
              "      <td>12.7</td>\n",
              "      <td>9.1</td>\n",
              "      <td>11.1</td>\n",
              "      <td>25</td>\n",
              "      <td>255</td>\n",
              "    </tr>\n",
              "    <tr>\n",
              "      <th>4</th>\n",
              "      <td>2014</td>\n",
              "      <td>ACURA</td>\n",
              "      <td>RDX AWD</td>\n",
              "      <td>SUV - SMALL</td>\n",
              "      <td>3.5</td>\n",
              "      <td>6</td>\n",
              "      <td>AS6</td>\n",
              "      <td>Z</td>\n",
              "      <td>12.1</td>\n",
              "      <td>8.7</td>\n",
              "      <td>10.6</td>\n",
              "      <td>27</td>\n",
              "      <td>244</td>\n",
              "    </tr>\n",
              "  </tbody>\n",
              "</table>\n",
              "</div>"
            ],
            "text/plain": [
              "   MODELYEAR   MAKE  ... FUELCONSUMPTION_COMB_MPG CO2EMISSIONS\n",
              "0       2014  ACURA  ...                       33          196\n",
              "1       2014  ACURA  ...                       29          221\n",
              "2       2014  ACURA  ...                       48          136\n",
              "3       2014  ACURA  ...                       25          255\n",
              "4       2014  ACURA  ...                       27          244\n",
              "\n",
              "[5 rows x 13 columns]"
            ]
          },
          "metadata": {},
          "execution_count": 5
        }
      ]
    },
    {
      "cell_type": "markdown",
      "metadata": {
        "id": "6LlmUjb-ehyl"
      },
      "source": [
        "Select some features that we want to use for linear regression\n"
      ]
    },
    {
      "cell_type": "code",
      "metadata": {
        "colab": {
          "base_uri": "https://localhost:8080/",
          "height": 346
        },
        "id": "U7YQ-TyJetPN",
        "outputId": "d5e3b76e-5c70-4cc9-b1e9-883dacf95ba0"
      },
      "source": [
        "cdf = df[['ENGINESIZE','CYLINDERS','FUELCONSUMPTION_CITY','FUELCONSUMPTION_HWY','FUELCONSUMPTION_COMB','CO2EMISSIONS']]\n",
        "cdf.head(9)"
      ],
      "execution_count": null,
      "outputs": [
        {
          "output_type": "execute_result",
          "data": {
            "text/html": [
              "<div>\n",
              "<style scoped>\n",
              "    .dataframe tbody tr th:only-of-type {\n",
              "        vertical-align: middle;\n",
              "    }\n",
              "\n",
              "    .dataframe tbody tr th {\n",
              "        vertical-align: top;\n",
              "    }\n",
              "\n",
              "    .dataframe thead th {\n",
              "        text-align: right;\n",
              "    }\n",
              "</style>\n",
              "<table border=\"1\" class=\"dataframe\">\n",
              "  <thead>\n",
              "    <tr style=\"text-align: right;\">\n",
              "      <th></th>\n",
              "      <th>ENGINESIZE</th>\n",
              "      <th>CYLINDERS</th>\n",
              "      <th>FUELCONSUMPTION_CITY</th>\n",
              "      <th>FUELCONSUMPTION_HWY</th>\n",
              "      <th>FUELCONSUMPTION_COMB</th>\n",
              "      <th>CO2EMISSIONS</th>\n",
              "    </tr>\n",
              "  </thead>\n",
              "  <tbody>\n",
              "    <tr>\n",
              "      <th>0</th>\n",
              "      <td>2.0</td>\n",
              "      <td>4</td>\n",
              "      <td>9.9</td>\n",
              "      <td>6.7</td>\n",
              "      <td>8.5</td>\n",
              "      <td>196</td>\n",
              "    </tr>\n",
              "    <tr>\n",
              "      <th>1</th>\n",
              "      <td>2.4</td>\n",
              "      <td>4</td>\n",
              "      <td>11.2</td>\n",
              "      <td>7.7</td>\n",
              "      <td>9.6</td>\n",
              "      <td>221</td>\n",
              "    </tr>\n",
              "    <tr>\n",
              "      <th>2</th>\n",
              "      <td>1.5</td>\n",
              "      <td>4</td>\n",
              "      <td>6.0</td>\n",
              "      <td>5.8</td>\n",
              "      <td>5.9</td>\n",
              "      <td>136</td>\n",
              "    </tr>\n",
              "    <tr>\n",
              "      <th>3</th>\n",
              "      <td>3.5</td>\n",
              "      <td>6</td>\n",
              "      <td>12.7</td>\n",
              "      <td>9.1</td>\n",
              "      <td>11.1</td>\n",
              "      <td>255</td>\n",
              "    </tr>\n",
              "    <tr>\n",
              "      <th>4</th>\n",
              "      <td>3.5</td>\n",
              "      <td>6</td>\n",
              "      <td>12.1</td>\n",
              "      <td>8.7</td>\n",
              "      <td>10.6</td>\n",
              "      <td>244</td>\n",
              "    </tr>\n",
              "    <tr>\n",
              "      <th>5</th>\n",
              "      <td>3.5</td>\n",
              "      <td>6</td>\n",
              "      <td>11.9</td>\n",
              "      <td>7.7</td>\n",
              "      <td>10.0</td>\n",
              "      <td>230</td>\n",
              "    </tr>\n",
              "    <tr>\n",
              "      <th>6</th>\n",
              "      <td>3.5</td>\n",
              "      <td>6</td>\n",
              "      <td>11.8</td>\n",
              "      <td>8.1</td>\n",
              "      <td>10.1</td>\n",
              "      <td>232</td>\n",
              "    </tr>\n",
              "    <tr>\n",
              "      <th>7</th>\n",
              "      <td>3.7</td>\n",
              "      <td>6</td>\n",
              "      <td>12.8</td>\n",
              "      <td>9.0</td>\n",
              "      <td>11.1</td>\n",
              "      <td>255</td>\n",
              "    </tr>\n",
              "    <tr>\n",
              "      <th>8</th>\n",
              "      <td>3.7</td>\n",
              "      <td>6</td>\n",
              "      <td>13.4</td>\n",
              "      <td>9.5</td>\n",
              "      <td>11.6</td>\n",
              "      <td>267</td>\n",
              "    </tr>\n",
              "  </tbody>\n",
              "</table>\n",
              "</div>"
            ],
            "text/plain": [
              "   ENGINESIZE  CYLINDERS  ...  FUELCONSUMPTION_COMB  CO2EMISSIONS\n",
              "0         2.0          4  ...                   8.5           196\n",
              "1         2.4          4  ...                   9.6           221\n",
              "2         1.5          4  ...                   5.9           136\n",
              "3         3.5          6  ...                  11.1           255\n",
              "4         3.5          6  ...                  10.6           244\n",
              "5         3.5          6  ...                  10.0           230\n",
              "6         3.5          6  ...                  10.1           232\n",
              "7         3.7          6  ...                  11.1           255\n",
              "8         3.7          6  ...                  11.6           267\n",
              "\n",
              "[9 rows x 6 columns]"
            ]
          },
          "metadata": {},
          "execution_count": 6
        }
      ]
    },
    {
      "cell_type": "code",
      "metadata": {
        "colab": {
          "base_uri": "https://localhost:8080/",
          "height": 280
        },
        "id": "9cbZH1Hleweq",
        "outputId": "e81686f9-ffbf-4717-ecb9-faf64cb1ef10"
      },
      "source": [
        "plt.scatter(cdf.ENGINESIZE, cdf.CO2EMISSIONS, color=\"blue\")\n",
        "plt.xlabel(\"Engine size\")\n",
        "plt.ylabel(\"CO2 Emission\")\n",
        "plt.show()"
      ],
      "execution_count": null,
      "outputs": [
        {
          "output_type": "display_data",
          "data": {
            "image/png": "[encoded data removed]",
            "text/plain": [
              "<Figure size 432x288 with 1 Axes>"
            ]
          },
          "metadata": {
            "needs_background": "light"
          }
        }
      ]
    },
    {
      "cell_type": "markdown",
      "metadata": {
        "id": "pXHIa1Vsfyx_"
      },
      "source": [
        "**Creating train and test dataset**\n",
        "Let's split our dataset into train and test sets. Around 80% of the entire dataset will be used for training and 20% for testing. We create a mask to select random rows using the np.random.rand() function:"
      ]
    },
    {
      "cell_type": "code",
      "metadata": {
        "id": "PKcq1UYMfDyG"
      },
      "source": [
        "msk = np.random.rand(len(df))<0.8\n",
        "train = cdf[msk]\n",
        "test = cdf[~msk]"
      ],
      "execution_count": null,
      "outputs": []
    },
    {
      "cell_type": "code",
      "metadata": {
        "colab": {
          "base_uri": "https://localhost:8080/"
        },
        "id": "h19PHFK4iPhO",
        "outputId": "b1997c64-9b26-40d4-cb28-b47d11f2331c"
      },
      "source": [
        "train.shape"
      ],
      "execution_count": null,
      "outputs": [
        {
          "output_type": "execute_result",
          "data": {
            "text/plain": [
              "(847, 6)"
            ]
          },
          "metadata": {},
          "execution_count": 16
        }
      ]
    },
    {
      "cell_type": "code",
      "metadata": {
        "colab": {
          "base_uri": "https://localhost:8080/"
        },
        "id": "DuYZd26_iUVn",
        "outputId": "8bf97f3d-a269-4349-e062-5d2c6401a4a8"
      },
      "source": [
        "test.shape"
      ],
      "execution_count": null,
      "outputs": [
        {
          "output_type": "execute_result",
          "data": {
            "text/plain": [
              "(220, 6)"
            ]
          },
          "metadata": {},
          "execution_count": 17
        }
      ]
    },
    {
      "cell_type": "code",
      "metadata": {
        "colab": {
          "base_uri": "https://localhost:8080/",
          "height": 280
        },
        "id": "dHItlZ7siasq",
        "outputId": "77c2abd4-df2f-4b65-ee39-4b6500c95112"
      },
      "source": [
        "plt.scatter(train.ENGINESIZE, train.CO2EMISSIONS,  color='blue')\n",
        "plt.xlabel(\"Engine size\")\n",
        "plt.ylabel(\"Emission\")\n",
        "plt.show()"
      ],
      "execution_count": null,
      "outputs": [
        {
          "output_type": "display_data",
          "data": {
            "image/png": "[encoded data removed]",
            "text/plain": [
              "<Figure size 432x288 with 1 Axes>"
            ]
          },
          "metadata": {
            "needs_background": "light"
          }
        }
      ]
    },
    {
      "cell_type": "code",
      "metadata": {
        "colab": {
          "base_uri": "https://localhost:8080/",
          "height": 282
        },
        "id": "0ku6JWOuijZu",
        "outputId": "cd04cf67-6344-4bb6-b96f-c6f14fda5ccc"
      },
      "source": [
        "plt.scatter(test.ENGINESIZE, test.CO2EMISSIONS,  color='blue')\n",
        "plt.xlabel(\"Engine size\")\n",
        "plt.ylabel(\"Emission\")\n",
        "plt.show()"
      ],
      "execution_count": null,
      "outputs": [
        {
          "output_type": "display_data",
          "data": {
            "image/png": "[encoded data removed]",
            "text/plain": [
              "<Figure size 432x288 with 1 Axes>"
            ]
          },
          "metadata": {
            "needs_background": "light"
          }
        }
      ]
    },
    {
      "cell_type": "markdown",
      "metadata": {
        "id": "q0dcdsZJiyvl"
      },
      "source": [
        "**Multiple Regression Model**"
      ]
    },
    {
      "cell_type": "markdown",
      "metadata": {
        "id": "rtfdJ3ZMi8zn"
      },
      "source": [
        "In reality, there are multiple variables that impact the co2emission. When more than one independent variable is present, the process is called multiple linear regression. An example of multiple linear regression is predicting co2emission using the features FUELCONSUMPTION_COMB, EngineSize and Cylinders of cars. The good thing here is that multiple linear regression model is the extension of the simple linear regression model."
      ]
    },
    {
      "cell_type": "code",
      "metadata": {
        "colab": {
          "base_uri": "https://localhost:8080/"
        },
        "id": "lUf0PhDPivq1",
        "outputId": "f0d8b530-a2d9-4a4f-c9f3-c382cdf776fc"
      },
      "source": [
        "from sklearn import linear_model\n",
        "regr = linear_model.LinearRegression()\n",
        "x = np.asanyarray(train[['ENGINESIZE','CYLINDERS','FUELCONSUMPTION_COMB']])\n",
        "y = np.asanyarray(train[['CO2EMISSIONS']])\n",
        "regr.fit(x,y)\n",
        "# for coefficients\n",
        "print(\"Coefficients: \", regr.coef_)"
      ],
      "execution_count": null,
      "outputs": [
        {
          "output_type": "stream",
          "name": "stdout",
          "text": [
            "Coefficients:  [[9.49145588 8.12332142 9.87492884]]\n"
          ]
        }
      ]
    },
    {
      "cell_type": "markdown",
      "metadata": {
        "id": "01m9AibdkD6Y"
      },
      "source": [
        "**Lets Predict**"
      ]
    },
    {
      "cell_type": "code",
      "metadata": {
        "id": "UfJXLFbyjvCC"
      },
      "source": [
        "y_hat= regr.predict(test[['ENGINESIZE','CYLINDERS','FUELCONSUMPTION_COMB']])\n",
        "x = np.asanyarray(test[['ENGINESIZE','CYLINDERS','FUELCONSUMPTION_COMB']])\n",
        "y = np.asanyarray(test[['CO2EMISSIONS']])\n"
      ],
      "execution_count": null,
      "outputs": []
    },
    {
      "cell_type": "code",
      "metadata": {
        "colab": {
          "base_uri": "https://localhost:8080/"
        },
        "id": "Kv7nWJg3lKR4",
        "outputId": "6c05c723-b7af-41cc-f214-079f6d4d9b50"
      },
      "source": [
        "y_hat"
      ],
      "execution_count": null,
      "outputs": [
        {
          "output_type": "execute_result",
          "data": {
            "text/plain": [
              "array([[168.31254356],\n",
              "       [261.72748375],\n",
              "       [370.84833058],\n",
              "       [206.63302957],\n",
              "       [215.52046553],\n",
              "       [205.64553669],\n",
              "       [345.98268285],\n",
              "       [369.68251207],\n",
              "       [262.9834077 ],\n",
              "       [286.74652066],\n",
              "       [216.50795841],\n",
              "       [216.50795841],\n",
              "       [303.53389969],\n",
              "       [380.68491212],\n",
              "       [304.52139257],\n",
              "       [380.47211326],\n",
              "       [197.74559361],\n",
              "       [204.6580438 ],\n",
              "       [238.2960856 ],\n",
              "       [240.27107137],\n",
              "       [197.74559361],\n",
              "       [238.2960856 ],\n",
              "       [240.27107137],\n",
              "       [295.48056743],\n",
              "       [246.19602867],\n",
              "       [295.48056743],\n",
              "       [370.80998328],\n",
              "       [315.23042512],\n",
              "       [306.34298916],\n",
              "       [204.6580438 ],\n",
              "       [213.54547976],\n",
              "       [309.30546781],\n",
              "       [199.5671902 ],\n",
              "       [256.82836662],\n",
              "       [258.80335239],\n",
              "       [257.81585951],\n",
              "       [333.30253859],\n",
              "       [385.63966145],\n",
              "       [349.10242474],\n",
              "       [405.38951914],\n",
              "       [258.80335239],\n",
              "       [262.75332393],\n",
              "       [351.0774105 ],\n",
              "       [297.75279476],\n",
              "       [193.87231667],\n",
              "       [185.13826989],\n",
              "       [314.10295391],\n",
              "       [384.99729423],\n",
              "       [341.54760733],\n",
              "       [371.89145567],\n",
              "       [250.90340932],\n",
              "       [212.55798688],\n",
              "       [304.02287772],\n",
              "       [326.3900884 ],\n",
              "       [194.85980955],\n",
              "       [314.88529945],\n",
              "       [197.97567739],\n",
              "       [247.94093066],\n",
              "       [249.91591643],\n",
              "       [288.42813892],\n",
              "       [314.73191027],\n",
              "       [217.34206211],\n",
              "       [256.82836662],\n",
              "       [311.76943161],\n",
              "       [308.80695296],\n",
              "       [308.80695296],\n",
              "       [314.73191027],\n",
              "       [256.82836662],\n",
              "       [194.78311496],\n",
              "       [181.18829836],\n",
              "       [300.27805353],\n",
              "       [262.75332393],\n",
              "       [228.20448384],\n",
              "       [195.01319874],\n",
              "       [388.22820396],\n",
              "       [349.4092031 ],\n",
              "       [211.57049399],\n",
              "       [267.65244105],\n",
              "       [337.55928849],\n",
              "       [302.29138659],\n",
              "       [310.19132967],\n",
              "       [271.67910718],\n",
              "       [310.11463507],\n",
              "       [279.50235566],\n",
              "       [324.92702834],\n",
              "       [279.50235566],\n",
              "       [322.90028441],\n",
              "       [372.27492862],\n",
              "       [364.90231088],\n",
              "       [216.50795841],\n",
              "       [191.82063631],\n",
              "       [216.50795841],\n",
              "       [214.53297264],\n",
              "       [251.8525549 ],\n",
              "       [246.99178508],\n",
              "       [300.31640082],\n",
              "       [222.24117924],\n",
              "       [390.92225154],\n",
              "       [401.78467326],\n",
              "       [390.92225154],\n",
              "       [318.77198726],\n",
              "       [277.29728612],\n",
              "       [306.98535638],\n",
              "       [217.34206211],\n",
              "       [314.88529945],\n",
              "       [349.10242474],\n",
              "       [252.91674238],\n",
              "       [249.95426373],\n",
              "       [258.84169969],\n",
              "       [263.77916411],\n",
              "       [198.7330865 ],\n",
              "       [253.98092986],\n",
              "       [217.34206211],\n",
              "       [260.73999086],\n",
              "       [220.3294772 ],\n",
              "       [253.90423526],\n",
              "       [318.95031288],\n",
              "       [302.16293384],\n",
              "       [218.329555  ],\n",
              "       [251.0567985 ],\n",
              "       [256.98175581],\n",
              "       [238.2960856 ],\n",
              "       [219.31704788],\n",
              "       [228.20448384],\n",
              "       [278.55321007],\n",
              "       [278.55321007],\n",
              "       [194.85980955],\n",
              "       [207.77391164],\n",
              "       [197.74559361],\n",
              "       [205.79892587],\n",
              "       [205.64553669],\n",
              "       [403.20551198],\n",
              "       [327.83774883],\n",
              "       [240.07933489],\n",
              "       [249.95426373],\n",
              "       [299.35384438],\n",
              "       [299.35384438],\n",
              "       [271.67910718],\n",
              "       [322.02783342],\n",
              "       [195.77060784],\n",
              "       [207.42878597],\n",
              "       [186.08741548],\n",
              "       [185.895679  ],\n",
              "       [194.59137848],\n",
              "       [209.59550822],\n",
              "       [186.84482459],\n",
              "       [246.00429219],\n",
              "       [246.00429219],\n",
              "       [232.17939181],\n",
              "       [288.45307535],\n",
              "       [285.4905967 ],\n",
              "       [307.89615467],\n",
              "       [323.0153263 ],\n",
              "       [292.40304689],\n",
              "       [242.05432065],\n",
              "       [188.02405395],\n",
              "       [188.02405395],\n",
              "       [186.04906818],\n",
              "       [183.08658953],\n",
              "       [188.02405395],\n",
              "       [194.93650414],\n",
              "       [192.96151837],\n",
              "       [189.99903972],\n",
              "       [199.87396856],\n",
              "       [192.96151837],\n",
              "       [189.99903972],\n",
              "       [212.40459769],\n",
              "       [229.34536591],\n",
              "       [199.72057938],\n",
              "       [241.25856425],\n",
              "       [201.69556515],\n",
              "       [203.67055092],\n",
              "       [260.73999086],\n",
              "       [259.75249798],\n",
              "       [237.11685623],\n",
              "       [344.39504409],\n",
              "       [190.98653261],\n",
              "       [195.92399703],\n",
              "       [249.95426373],\n",
              "       [201.50382867],\n",
              "       [187.03656107],\n",
              "       [235.44864883],\n",
              "       [241.10517507],\n",
              "       [311.12706439],\n",
              "       [254.09597174],\n",
              "       [252.12098598],\n",
              "       [300.26464267],\n",
              "       [322.00289698],\n",
              "       [312.12796814],\n",
              "       [258.80335239],\n",
              "       [381.44232123],\n",
              "       [381.44232123],\n",
              "       [393.25388855],\n",
              "       [377.49234969],\n",
              "       [208.60801534],\n",
              "       [208.41627886],\n",
              "       [230.14112231],\n",
              "       [242.97852981],\n",
              "       [217.30371482],\n",
              "       [275.59073142],\n",
              "       [175.82901368],\n",
              "       [184.98488071],\n",
              "       [181.03490917],\n",
              "       [277.41232801],\n",
              "       [213.35374328],\n",
              "       [347.31917545],\n",
              "       [229.07693484],\n",
              "       [313.17874475],\n",
              "       [335.46926084],\n",
              "       [222.16448465],\n",
              "       [182.13744394],\n",
              "       [186.88317189],\n",
              "       [203.67055092],\n",
              "       [203.67055092],\n",
              "       [197.8222882 ],\n",
              "       [224.43954335],\n",
              "       [184.90818612],\n",
              "       [223.45205047],\n",
              "       [243.15685543],\n",
              "       [254.09597174]])"
            ]
          },
          "metadata": {},
          "execution_count": 25
        }
      ]
    },
    {
      "cell_type": "code",
      "metadata": {
        "colab": {
          "base_uri": "https://localhost:8080/"
        },
        "id": "pP_RbMPylLlP",
        "outputId": "6be18aaf-c526-4dcb-f34d-0a5ea561841d"
      },
      "source": [
        "print(\"Residual sum of squares: %.2f\" % np.mean((y_hat - y) ** 2))"
      ],
      "execution_count": null,
      "outputs": [
        {
          "output_type": "stream",
          "name": "stdout",
          "text": [
            "Residual sum of squares: 515.06\n"
          ]
        }
      ]
    },
    {
      "cell_type": "code",
      "metadata": {
        "colab": {
          "base_uri": "https://localhost:8080/"
        },
        "id": "D0OiCqsFlT4p",
        "outputId": "7cc44250-6737-4445-96ed-f707ec3e6400"
      },
      "source": [
        "# Explained variance score: 1 is perfect prediction\n",
        "print('Variance score: %.2f' % regr.score(x, y))"
      ],
      "execution_count": null,
      "outputs": [
        {
          "output_type": "stream",
          "name": "stdout",
          "text": [
            "Variance score: 0.87\n"
          ]
        }
      ]
    },
    {
      "cell_type": "markdown",
      "metadata": {
        "id": "bg59904kl1Ur"
      },
      "source": [
        "**Explained variance regression score:**\\\n",
        "Let $\\hat{y}$ be the estimated target output, y the corresponding (correct) target output, and Var be the Variance (the square of the standard deviation). Then the explained variance is estimated as follows:\n",
        "\n",
        "$\\texttt{explainedVariance}(y, \\hat{y}) = 1 - \\frac{Var{ y - \\hat{y}}}{Var{y}}$\\\n",
        "The best possible score is 1.0, the lower values are worse.\n"
      ]
    },
    {
      "cell_type": "code",
      "metadata": {
        "id": "vH5gIOUolYMX"
      },
      "source": [
        ""
      ],
      "execution_count": null,
      "outputs": []
    }
  ]
}